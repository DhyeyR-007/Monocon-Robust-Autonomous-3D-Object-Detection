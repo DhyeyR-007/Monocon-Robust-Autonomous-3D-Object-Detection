{
 "cells": [
  {
   "cell_type": "code",
   "execution_count": 1,
   "id": "152d58ae",
   "metadata": {},
   "outputs": [],
   "source": [
    "import os\n",
    "import numpy as np\n",
    "import copy\n",
    "from operator import itemgetter \n",
    "from PIL import Image\n",
    "import shutil"
   ]
  },
  {
   "cell_type": "code",
   "execution_count": 2,
   "id": "396df72a",
   "metadata": {},
   "outputs": [],
   "source": [
    "rng1 = np.random.default_rng()\n",
    "data_dir = \"/home/drajani/Downloads/monocon_main/DevKit/FinalData\"\n",
    "test_path = os.path.join(data_dir, \"Test\")"
   ]
  },
  {
   "cell_type": "code",
   "execution_count": 3,
   "id": "5ee8d81e",
   "metadata": {},
   "outputs": [],
   "source": [
    "# Calibration\n",
    "def parse_calibration(folder, cameraID):\n",
    "    frame_lines = {}\n",
    "    file = open(os.path.join(folder, \"intrinsic.txt\"), \"r\")\n",
    "    i = 0\n",
    "    for line in file.readlines():\n",
    "        line = line.strip()\n",
    "        broken_line = line.split(\" \")\n",
    "        if i != 0:\n",
    "            if broken_line[1] == cameraID:\n",
    "                frame_id = broken_line[0]\n",
    "                new_info = broken_line[2:]\n",
    "                frame_lines[frame_id] = new_info\n",
    "        i += 1\n",
    "    file.close()\n",
    "    return frame_lines\n",
    "\n",
    "def calib_text(calib_info):\n",
    "    P = calib_info[0] + \" 0.0 \" + calib_info[2] + \" 0.0 0.0 \" + calib_info[1] + \" \" + calib_info[3] + \" 0.0 0.0 0.0 1.0 0.0\\n\"\n",
    "    lines = []\n",
    "    for i in range(4):\n",
    "        new_line = \"P\" + str(i) + \": \" + P\n",
    "        lines.append(new_line)\n",
    "    lines.append(\"R0_rect: 1.0 0.0 0.0 0.0 1.0 0.0 0.0 0.0 1.0\\n\")\n",
    "    identity = \"1.0 0.0 0.0 0.0 0.0 1.0 0.0 0.0 0.0 0.0 1.0 0.0\\n\"\n",
    "    lines.append(\"Tr_velo_to_cam: \" + identity)\n",
    "    lines.append(\"Tr_imu_to_velo: \" + identity)\n",
    "    return lines\n",
    "\n",
    "def write_calib(fpath, calib_info):\n",
    "    if os.path.exists(fpath):\n",
    "        os.remove(fpath)\n",
    "    calib_lines = calib_text(calib_info)\n",
    "    cur_file = open(fpath, \"w\")\n",
    "    for new_line in calib_lines:\n",
    "        cur_file.write(new_line)\n",
    "    cur_file.close()\n",
    "    \n",
    "\n",
    "all_camera = parse_calibration(test_path, \"0\")"
   ]
  },
  {
   "cell_type": "code",
   "execution_count": 4,
   "id": "c44f03b6",
   "metadata": {},
   "outputs": [],
   "source": [
    "# Test set frames\n",
    "int_frames = sorted([int(i) for i in list(all_camera.keys())])"
   ]
  },
  {
   "cell_type": "code",
   "execution_count": 5,
   "id": "72d48082",
   "metadata": {},
   "outputs": [],
   "source": [
    "if not os.path.exists(\"testing/calib\"):\n",
    "    os.makedirs(\"testing/calib\")\n",
    "if not os.path.exists(\"testing/image_2\"):\n",
    "    os.makedirs(\"testing/image_2\")\n",
    "\n",
    "cur_file = None\n",
    "test_set = []\n",
    "\n",
    "image_inds = []\n",
    "for test_ind in int_frames:\n",
    "        # Image file\n",
    "        if test_ind < 423:\n",
    "            image_path = os.path.join(test_path, \"Camera\", \"rgb_\" + str(test_ind).zfill(5)+\".jpg\")\n",
    "        else:\n",
    "            image_path = os.path.join(test_path, \"CameraExtraCredit\", \"rgb_\" + str(test_ind).zfill(5)+\".jpg\")\n",
    "        \n",
    "        new_image_path = os.path.join(\"testing/image_2/\", str(test_ind).zfill(6) + \".png\")\n",
    "        \n",
    "        # Some images are skipped\n",
    "        try:\n",
    "            im = Image.open(image_path)\n",
    "            image_inds.append(test_ind)\n",
    "        except:\n",
    "            continue\n",
    "        im.save(new_image_path)\n",
    "\n",
    "        # Calibration file\n",
    "        calib_path = os.path.join(\"testing/calib\", str(test_ind).zfill(6)+\".txt\")\n",
    "        calib_info = all_camera[str(test_ind)]\n",
    "        write_calib(calib_path, calib_info)"
   ]
  },
  {
   "cell_type": "code",
   "execution_count": 6,
   "id": "f1056b49",
   "metadata": {},
   "outputs": [],
   "source": [
    "if not os.path.exists(\"ImageSets\"):\n",
    "    os.makedirs(\"ImageSets\")\n",
    "\n",
    "# Train split\n",
    "file_path = os.path.join(\"ImageSets/test.txt\")\n",
    "if os.path.exists(file_path):\n",
    "    os.remove(file_path)\n",
    "cur_file = open(file_path, \"w\")\n",
    "for ind in image_inds:\n",
    "    line = str(ind).zfill(6)\n",
    "    cur_file.write(line + \"\\n\")\n",
    "cur_file.close()"
   ]
  }
 ],
 "metadata": {
  "kernelspec": {
   "display_name": "Python 3 (ipykernel)",
   "language": "python",
   "name": "python3"
  },
  "language_info": {
   "codemirror_mode": {
    "name": "ipython",
    "version": 3
   },
   "file_extension": ".py",
   "mimetype": "text/x-python",
   "name": "python",
   "nbconvert_exporter": "python",
   "pygments_lexer": "ipython3",
   "version": "3.11.3"
  }
 },
 "nbformat": 4,
 "nbformat_minor": 5
}
